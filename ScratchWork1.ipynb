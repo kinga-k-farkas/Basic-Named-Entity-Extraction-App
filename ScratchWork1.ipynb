{
 "cells": [
  {
   "cell_type": "code",
   "execution_count": 24,
   "id": "8214cd1b",
   "metadata": {},
   "outputs": [],
   "source": [
    "import spacy\n",
    "from spacy import displacy"
   ]
  },
  {
   "cell_type": "code",
   "execution_count": 25,
   "id": "3f2fff99",
   "metadata": {},
   "outputs": [],
   "source": [
    "nlp = spacy.load(\"Models/model-best\")"
   ]
  },
  {
   "cell_type": "code",
   "execution_count": 26,
   "id": "68f2599d",
   "metadata": {},
   "outputs": [],
   "source": [
    "text = [''' I live at 3406 SE King Road.  I used to live at str Magurei 3/17.  But that is not in Oregon.   We also lived on SE Taylor street. \n",
    "Now someone is at 2566 SE Flavel, Portland, OR97822.    The Church is located at 555 East Main St.  The 555 East Main Avenue is the home to Marky Mark, who was born in 18. \n",
    "The address of the State Street Corp. is 1041 Shoppes Blvd. and the.   The address of Revlon Inc is 1109 S Park St. and there are 70\n",
    "The address of Cornelius is 305 N Veterans Pkwy. ''']"
   ]
  },
  {
   "cell_type": "code",
   "execution_count": 27,
   "id": "1de1cf30",
   "metadata": {},
   "outputs": [
    {
     "name": "stdout",
     "output_type": "stream",
     "text": [
      "[('3406 SE King Road', 'ADDRESS'), ('SE Taylor street', 'ADDRESS'), ('2566 SE Flavel', 'ADDRESS'), ('555 East Main St.', 'ADDRESS'), ('555 East Main Avenue', 'ADDRESS'), ('State Street Corp.', 'ADDRESS'), ('1041 Shoppes Blvd', 'ADDRESS'), ('1109 S Park St.', 'ADDRESS'), ('305 N Veterans Pkwy', 'ADDRESS')] \n",
      "\n"
     ]
    }
   ],
   "source": [
    "for doc in nlp.pipe(text, disable=[\"tagger\", \"parser\"]):\n",
    "    print([(ent.text, ent.label_) for ent in doc.ents], \"\\n\")"
   ]
  },
  {
   "cell_type": "code",
   "execution_count": 28,
   "id": "ba750e7f",
   "metadata": {},
   "outputs": [
    {
     "data": {
      "text/html": [
       "<span class=\"tex2jax_ignore\"><div class=\"entities\" style=\"line-height: 2.5; direction: ltr\">I live at \n",
       "<mark class=\"entity\" style=\"background: #ddd; padding: 0.45em 0.6em; margin: 0 0.25em; line-height: 1; border-radius: 0.35em;\">\n",
       "    3406 SE King Road\n",
       "    <span style=\"font-size: 0.8em; font-weight: bold; line-height: 1; border-radius: 0.35em; vertical-align: middle; margin-left: 0.5rem\">ADDRESS</span>\n",
       "</mark>\n",
       ".  I used to live at str Magurei 3/17.  But that is not in Oregon.   We also lived on \n",
       "<mark class=\"entity\" style=\"background: #ddd; padding: 0.45em 0.6em; margin: 0 0.25em; line-height: 1; border-radius: 0.35em;\">\n",
       "    SE Taylor street\n",
       "    <span style=\"font-size: 0.8em; font-weight: bold; line-height: 1; border-radius: 0.35em; vertical-align: middle; margin-left: 0.5rem\">ADDRESS</span>\n",
       "</mark>\n",
       ". Now someone is at \n",
       "<mark class=\"entity\" style=\"background: #ddd; padding: 0.45em 0.6em; margin: 0 0.25em; line-height: 1; border-radius: 0.35em;\">\n",
       "    2566 SE Flavel\n",
       "    <span style=\"font-size: 0.8em; font-weight: bold; line-height: 1; border-radius: 0.35em; vertical-align: middle; margin-left: 0.5rem\">ADDRESS</span>\n",
       "</mark>\n",
       ", Portland, OR97822.    The Church is located at \n",
       "<mark class=\"entity\" style=\"background: #ddd; padding: 0.45em 0.6em; margin: 0 0.25em; line-height: 1; border-radius: 0.35em;\">\n",
       "    555 East Main St.\n",
       "    <span style=\"font-size: 0.8em; font-weight: bold; line-height: 1; border-radius: 0.35em; vertical-align: middle; margin-left: 0.5rem\">ADDRESS</span>\n",
       "</mark>\n",
       "  The \n",
       "<mark class=\"entity\" style=\"background: #ddd; padding: 0.45em 0.6em; margin: 0 0.25em; line-height: 1; border-radius: 0.35em;\">\n",
       "    555 East Main Avenue\n",
       "    <span style=\"font-size: 0.8em; font-weight: bold; line-height: 1; border-radius: 0.35em; vertical-align: middle; margin-left: 0.5rem\">ADDRESS</span>\n",
       "</mark>\n",
       " is the home to Marky Mark, who was born in 18.  The address of the \n",
       "<mark class=\"entity\" style=\"background: #ddd; padding: 0.45em 0.6em; margin: 0 0.25em; line-height: 1; border-radius: 0.35em;\">\n",
       "    State Street Corp.\n",
       "    <span style=\"font-size: 0.8em; font-weight: bold; line-height: 1; border-radius: 0.35em; vertical-align: middle; margin-left: 0.5rem\">ADDRESS</span>\n",
       "</mark>\n",
       " is \n",
       "<mark class=\"entity\" style=\"background: #ddd; padding: 0.45em 0.6em; margin: 0 0.25em; line-height: 1; border-radius: 0.35em;\">\n",
       "    1041 Shoppes Blvd\n",
       "    <span style=\"font-size: 0.8em; font-weight: bold; line-height: 1; border-radius: 0.35em; vertical-align: middle; margin-left: 0.5rem\">ADDRESS</span>\n",
       "</mark>\n",
       ". and the.   The address of Revlon Inc is \n",
       "<mark class=\"entity\" style=\"background: #ddd; padding: 0.45em 0.6em; margin: 0 0.25em; line-height: 1; border-radius: 0.35em;\">\n",
       "    1109 S Park St.\n",
       "    <span style=\"font-size: 0.8em; font-weight: bold; line-height: 1; border-radius: 0.35em; vertical-align: middle; margin-left: 0.5rem\">ADDRESS</span>\n",
       "</mark>\n",
       " and there are \n",
       "<mark class=\"entity\" style=\"background: #ddd; padding: 0.45em 0.6em; margin: 0 0.25em; line-height: 1; border-radius: 0.35em;\">\n",
       "    70\n",
       "    <span style=\"font-size: 0.8em; font-weight: bold; line-height: 1; border-radius: 0.35em; vertical-align: middle; margin-left: 0.5rem\">ADDRESS</span>\n",
       "</mark>\n",
       " The address of Cornelius is \n",
       "<mark class=\"entity\" style=\"background: #ddd; padding: 0.45em 0.6em; margin: 0 0.25em; line-height: 1; border-radius: 0.35em;\">\n",
       "    305 N Veterans Pkwy\n",
       "    <span style=\"font-size: 0.8em; font-weight: bold; line-height: 1; border-radius: 0.35em; vertical-align: middle; margin-left: 0.5rem\">ADDRESS</span>\n",
       "</mark>\n",
       ".</div></span>"
      ],
      "text/plain": [
       "<IPython.core.display.HTML object>"
      ]
     },
     "metadata": {},
     "output_type": "display_data"
    }
   ],
   "source": [
    "text = \"I live at 3406 SE King Road.  I used to live at str Magurei 3/17.  But that is not in Oregon.   We also lived on SE Taylor street. Now someone is at 2566 SE Flavel, Portland, OR97822.    The Church is located at 555 East Main St.  The 555 East Main Avenue is the home to Marky Mark, who was born in 18.  The address of the State Street Corp. is 1041 Shoppes Blvd. and the.   The address of Revlon Inc is 1109 S Park St. and there are 70 The address of Cornelius is 305 N Veterans Pkwy.\"\n",
    "doc = nlp(text)\n",
    "displacy.render(doc, style=\"ent\")"
   ]
  },
  {
   "cell_type": "code",
   "execution_count": 29,
   "id": "b0ed1906",
   "metadata": {},
   "outputs": [],
   "source": [
    "colors = {\"ADDRESS\": \"linear-gradient(90deg, #aa9cfc, #fc9ce7)\"}\n",
    "colors = {\"ADDRESS\" : \" #aa9cfc\"}\n",
    "options = {\"ents\": [\"ADDRESS\"], \"colors\": colors}"
   ]
  },
  {
   "cell_type": "code",
   "execution_count": 30,
   "id": "5b77322a",
   "metadata": {},
   "outputs": [
    {
     "data": {
      "text/html": [
       "<span class=\"tex2jax_ignore\"><div class=\"entities\" style=\"line-height: 2.5; direction: ltr\">I live at \n",
       "<mark class=\"entity\" style=\"background:  #aa9cfc; padding: 0.45em 0.6em; margin: 0 0.25em; line-height: 1; border-radius: 0.35em;\">\n",
       "    3406 SE King Road\n",
       "    <span style=\"font-size: 0.8em; font-weight: bold; line-height: 1; border-radius: 0.35em; vertical-align: middle; margin-left: 0.5rem\">ADDRESS</span>\n",
       "</mark>\n",
       ".  I used to live at str Magurei 3/17.  But that is not in Oregon.   We also lived on \n",
       "<mark class=\"entity\" style=\"background:  #aa9cfc; padding: 0.45em 0.6em; margin: 0 0.25em; line-height: 1; border-radius: 0.35em;\">\n",
       "    SE Taylor street\n",
       "    <span style=\"font-size: 0.8em; font-weight: bold; line-height: 1; border-radius: 0.35em; vertical-align: middle; margin-left: 0.5rem\">ADDRESS</span>\n",
       "</mark>\n",
       ". Now someone is at \n",
       "<mark class=\"entity\" style=\"background:  #aa9cfc; padding: 0.45em 0.6em; margin: 0 0.25em; line-height: 1; border-radius: 0.35em;\">\n",
       "    2566 SE Flavel\n",
       "    <span style=\"font-size: 0.8em; font-weight: bold; line-height: 1; border-radius: 0.35em; vertical-align: middle; margin-left: 0.5rem\">ADDRESS</span>\n",
       "</mark>\n",
       ", Portland, OR97822.    The Church is located at \n",
       "<mark class=\"entity\" style=\"background:  #aa9cfc; padding: 0.45em 0.6em; margin: 0 0.25em; line-height: 1; border-radius: 0.35em;\">\n",
       "    555 East Main St.\n",
       "    <span style=\"font-size: 0.8em; font-weight: bold; line-height: 1; border-radius: 0.35em; vertical-align: middle; margin-left: 0.5rem\">ADDRESS</span>\n",
       "</mark>\n",
       "  The \n",
       "<mark class=\"entity\" style=\"background:  #aa9cfc; padding: 0.45em 0.6em; margin: 0 0.25em; line-height: 1; border-radius: 0.35em;\">\n",
       "    555 East Main Avenue\n",
       "    <span style=\"font-size: 0.8em; font-weight: bold; line-height: 1; border-radius: 0.35em; vertical-align: middle; margin-left: 0.5rem\">ADDRESS</span>\n",
       "</mark>\n",
       " is the home to Marky Mark, who was born in 18.  The address of the \n",
       "<mark class=\"entity\" style=\"background:  #aa9cfc; padding: 0.45em 0.6em; margin: 0 0.25em; line-height: 1; border-radius: 0.35em;\">\n",
       "    State Street Corp.\n",
       "    <span style=\"font-size: 0.8em; font-weight: bold; line-height: 1; border-radius: 0.35em; vertical-align: middle; margin-left: 0.5rem\">ADDRESS</span>\n",
       "</mark>\n",
       " is \n",
       "<mark class=\"entity\" style=\"background:  #aa9cfc; padding: 0.45em 0.6em; margin: 0 0.25em; line-height: 1; border-radius: 0.35em;\">\n",
       "    1041 Shoppes Blvd\n",
       "    <span style=\"font-size: 0.8em; font-weight: bold; line-height: 1; border-radius: 0.35em; vertical-align: middle; margin-left: 0.5rem\">ADDRESS</span>\n",
       "</mark>\n",
       ". and the.   The address of Revlon Inc is \n",
       "<mark class=\"entity\" style=\"background:  #aa9cfc; padding: 0.45em 0.6em; margin: 0 0.25em; line-height: 1; border-radius: 0.35em;\">\n",
       "    1109 S Park St.\n",
       "    <span style=\"font-size: 0.8em; font-weight: bold; line-height: 1; border-radius: 0.35em; vertical-align: middle; margin-left: 0.5rem\">ADDRESS</span>\n",
       "</mark>\n",
       " and there are \n",
       "<mark class=\"entity\" style=\"background:  #aa9cfc; padding: 0.45em 0.6em; margin: 0 0.25em; line-height: 1; border-radius: 0.35em;\">\n",
       "    70\n",
       "    <span style=\"font-size: 0.8em; font-weight: bold; line-height: 1; border-radius: 0.35em; vertical-align: middle; margin-left: 0.5rem\">ADDRESS</span>\n",
       "</mark>\n",
       " The address of Cornelius is \n",
       "<mark class=\"entity\" style=\"background:  #aa9cfc; padding: 0.45em 0.6em; margin: 0 0.25em; line-height: 1; border-radius: 0.35em;\">\n",
       "    305 N Veterans Pkwy\n",
       "    <span style=\"font-size: 0.8em; font-weight: bold; line-height: 1; border-radius: 0.35em; vertical-align: middle; margin-left: 0.5rem\">ADDRESS</span>\n",
       "</mark>\n",
       ".</div></span>"
      ],
      "text/plain": [
       "<IPython.core.display.HTML object>"
      ]
     },
     "metadata": {},
     "output_type": "display_data"
    }
   ],
   "source": [
    "displacy.render(doc, style=\"ent\", options=options)"
   ]
  },
  {
   "cell_type": "code",
   "execution_count": 31,
   "id": "3914003b",
   "metadata": {},
   "outputs": [],
   "source": [
    "nlp_drug= spacy.load(\"Models/model-best_drug\")"
   ]
  },
  {
   "cell_type": "code",
   "execution_count": 32,
   "id": "d5800506",
   "metadata": {},
   "outputs": [
    {
     "data": {
      "text/html": [
       "<span class=\"tex2jax_ignore\"><div class=\"entities\" style=\"line-height: 2.5; direction: ltr\">I sell \n",
       "<mark class=\"entity\" style=\"background: #ddd; padding: 0.45em 0.6em; margin: 0 0.25em; line-height: 1; border-radius: 0.35em;\">\n",
       "    cocain\n",
       "    <span style=\"font-size: 0.8em; font-weight: bold; line-height: 1; border-radius: 0.35em; vertical-align: middle; margin-left: 0.5rem\">DRUG</span>\n",
       "</mark>\n",
       " at 3406 SE King Road.  I used to sell \n",
       "<mark class=\"entity\" style=\"background: #ddd; padding: 0.45em 0.6em; margin: 0 0.25em; line-height: 1; border-radius: 0.35em;\">\n",
       "    herion\n",
       "    <span style=\"font-size: 0.8em; font-weight: bold; line-height: 1; border-radius: 0.35em; vertical-align: middle; margin-left: 0.5rem\">DRUG</span>\n",
       "</mark>\n",
       " at str Magurei 3/17.  But that is not in Oregon.   We also lived on SE Taylor street. Now someone is using \n",
       "<mark class=\"entity\" style=\"background: #ddd; padding: 0.45em 0.6em; margin: 0 0.25em; line-height: 1; border-radius: 0.35em;\">\n",
       "    marijuana\n",
       "    <span style=\"font-size: 0.8em; font-weight: bold; line-height: 1; border-radius: 0.35em; vertical-align: middle; margin-left: 0.5rem\">DRUG</span>\n",
       "</mark>\n",
       " at 2566 SE Flavel, Portland, OR97822.    The Church is located at 555 East Main St and there are no \n",
       "<mark class=\"entity\" style=\"background: #ddd; padding: 0.45em 0.6em; margin: 0 0.25em; line-height: 1; border-radius: 0.35em;\">\n",
       "    drugs\n",
       "    <span style=\"font-size: 0.8em; font-weight: bold; line-height: 1; border-radius: 0.35em; vertical-align: middle; margin-left: 0.5rem\">DRUG</span>\n",
       "</mark>\n",
       " there.  The 555 East Main Avenue is the home to Marky Mark, who was born in 18.  The address of the State Street Corp. is 1041 Shoppes Blvd. and the.   The address of Revlon Inc is 1109 S Park St. and there are 70 The address of Cornelius is 305 N Veterans Pkwy.</div></span>"
      ],
      "text/plain": [
       "<IPython.core.display.HTML object>"
      ]
     },
     "metadata": {},
     "output_type": "display_data"
    }
   ],
   "source": [
    "text = \"I sell cocain at 3406 SE King Road.  I used to sell herion at str Magurei 3/17.  But that is not in Oregon.   We also lived on SE Taylor street. Now someone is using marijuana at 2566 SE Flavel, Portland, OR97822.    The Church is located at 555 East Main St and there are no drugs there.  The 555 East Main Avenue is the home to Marky Mark, who was born in 18.  The address of the State Street Corp. is 1041 Shoppes Blvd. and the.   The address of Revlon Inc is 1109 S Park St. and there are 70 The address of Cornelius is 305 N Veterans Pkwy.\"\n",
    "doc = nlp_drug(text)\n",
    "displacy.render(doc, style=\"ent\")"
   ]
  },
  {
   "cell_type": "code",
   "execution_count": 34,
   "id": "05ad8634",
   "metadata": {},
   "outputs": [],
   "source": [
    "nlp3= spacy.load(\"Models/model_best_3_Plus\")\n"
   ]
  },
  {
   "cell_type": "code",
   "execution_count": 36,
   "id": "3df42f97",
   "metadata": {},
   "outputs": [],
   "source": [
    "text3 = \" Marco Polo lives at 123 Haven Harbour Way, Bradenton, FL 12200. \\\n",
    "His number is (555) 505-4444. \\\n",
    "There is a hospital at 5655 SE Fullerton Road in Junebug. \\\n",
    "Their number is (405) 111 3333.  More numbers: 1-800-334-5555, 1 (503) 873-4334, (505) - 343-1111\"\n",
    "doc3 = nlp3(text3)"
   ]
  },
  {
   "cell_type": "code",
   "execution_count": 37,
   "id": "cda30444",
   "metadata": {},
   "outputs": [
    {
     "name": "stdout",
     "output_type": "stream",
     "text": [
      "123 Haven Harbour Way ADDRESS\n",
      "(555) 505-4444 PHONE_NUMBER\n",
      "5655 SE Fullerton Road ADDRESS\n",
      "(405) 111 3333 PHONE_NUMBER\n",
      "1-800-334-5555 PHONE_NUMBER\n",
      "1 (503) 873-4334 PHONE_NUMBER\n",
      "(505) - 343-1111 PHONE_NUMBER\n"
     ]
    }
   ],
   "source": [
    "for ent in doc3.ents:\n",
    "    print (ent.text, ent.label_)"
   ]
  },
  {
   "cell_type": "code",
   "execution_count": null,
   "id": "b08216e8",
   "metadata": {},
   "outputs": [],
   "source": []
  }
 ],
 "metadata": {
  "kernelspec": {
   "display_name": "Python 3 (ipykernel)",
   "language": "python",
   "name": "python3"
  },
  "language_info": {
   "codemirror_mode": {
    "name": "ipython",
    "version": 3
   },
   "file_extension": ".py",
   "mimetype": "text/x-python",
   "name": "python",
   "nbconvert_exporter": "python",
   "pygments_lexer": "ipython3",
   "version": "3.9.7"
  }
 },
 "nbformat": 4,
 "nbformat_minor": 5
}
